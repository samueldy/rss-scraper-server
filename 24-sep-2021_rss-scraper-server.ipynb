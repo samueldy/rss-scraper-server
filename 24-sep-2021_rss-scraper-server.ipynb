{
 "cells": [
  {
   "cell_type": "markdown",
   "metadata": {},
   "source": [
    "# RSS feed server for websites that don't publish it anymore"
   ]
  },
  {
   "cell_type": "markdown",
   "metadata": {},
   "source": [
    "- This is a prototyping notebook to test the `newspaper` and `rfeed` libraries.\n",
    "- Tried to get RSS feeds from Associated Press.\n",
    "- RSS.app worked...while their free trial lasted. Then they wanted me to pay.\n",
    "- And I was like, \"I *know* I can build something like this in Python.\""
   ]
  },
  {
   "cell_type": "code",
   "execution_count": 1,
   "metadata": {},
   "outputs": [],
   "source": [
    "import os\n",
    "import sys\n",
    "import newspaper\n",
    "import rfeed\n",
    "import tqdm\n",
    "from markupsafe import escape"
   ]
  },
  {
   "cell_type": "code",
   "execution_count": 2,
   "metadata": {},
   "outputs": [
    {
     "data": {
      "text/plain": [
       "'http://proxyout.lanl.gov:8080'"
      ]
     },
     "execution_count": 2,
     "metadata": {},
     "output_type": "execute_result"
    }
   ],
   "source": [
    "os.environ.pop(\"HTTP_PROXY\")"
   ]
  },
  {
   "cell_type": "code",
   "execution_count": 3,
   "metadata": {},
   "outputs": [],
   "source": [
    "# Need to specify the websites we'd like to scrape\n",
    "websites = {\n",
    "    \"ap_main\": {\n",
    "        \"shortname\": \"AP News Main Page\",\n",
    "        \"fullname\": \"Associated Press News - Main Page\",\n",
    "        \"url\": \"https://apnews.com/\",\n",
    "    },\n",
    "    \"ap_politics\": {\n",
    "        \"shortname\": \"AP News - Politics\",\n",
    "        \"fullname\": \"Associated Press News - Politics\",\n",
    "        \"url\": \"https://apnews.com/hub/politics\",\n",
    "    },\n",
    "    \"ap_coronavirus\": {\n",
    "        \"shortname\": \"AP News - Coronavirus\",\n",
    "        \"fullname\": \"Associated Press News - Coronavirus\",\n",
    "        \"url\": \"https://apnews.com/hub/coronavirus-pandemic\",\n",
    "    },\n",
    "}"
   ]
  },
  {
   "cell_type": "code",
   "execution_count": 8,
   "metadata": {},
   "outputs": [],
   "source": [
    "def get_site_articles(url):\n",
    "    \"\"\"\n",
    "    Reach out and download article objects from a news site.\n",
    "    \"\"\"\n",
    "\n",
    "    feed_items = []\n",
    "\n",
    "    site = newspaper.build(url, memoize_articles=False)\n",
    "\n",
    "    articles = [newspaper.Article(art_url) for art_url in site.article_urls()]\n",
    "\n",
    "    data = []\n",
    "    for article in tqdm.tqdm(articles[:2]):\n",
    "        article.download()\n",
    "        article.parse()\n",
    "        article.nlp()\n",
    "        feed_item = rfeed.Item(\n",
    "            title=article.title,\n",
    "            link=article.url,\n",
    "            description=article.summary,\n",
    "            creator=\", \".join(article.authors),\n",
    "#             guid=rfeed.Guid(guid=url),\n",
    "            pubDate=article.publish_date,\n",
    "        )\n",
    "\n",
    "        feed_items.append(feed_item)\n",
    "\n",
    "    return feed_items"
   ]
  },
  {
   "cell_type": "code",
   "execution_count": 6,
   "metadata": {},
   "outputs": [],
   "source": [
    "site = newspaper.build(websites[\"ap_main\"][\"url\"], memoize_articles=False)"
   ]
  },
  {
   "cell_type": "code",
   "execution_count": 8,
   "metadata": {},
   "outputs": [],
   "source": [
    "articles = [newspaper.Article(art_url) for art_url in site.article_urls()]"
   ]
  },
  {
   "cell_type": "code",
   "execution_count": 13,
   "metadata": {},
   "outputs": [],
   "source": [
    "articles[51].nlp()"
   ]
  },
  {
   "cell_type": "code",
   "execution_count": 14,
   "metadata": {},
   "outputs": [
    {
     "data": {
      "text/plain": [
       "'(AP Photo/Vahid Salemi)QOM, Iran (AP) — In Iran’s holy city of Qom, where Shiite scholars study and pilgrims travel to a shrine believed to be a gate to heaven, the Islamic Republic’s coronavirus outbreak began and still rages to this day.\\nWhile Iran works to vaccinate its 80 million people, many in Qom have not sought out the shots, authorities say.\\nOverall across Iran — the Middle Eastern country hardest hit by the pandemic — there have been 5.5 million confirmed virus infections.\\nIt was in Qom, some 125 kilometers (80 miles) southwest of Tehran, that the coronavirus first took hold in Iran.\\nBut whatever started the pandemic here, the virus still rages.'"
      ]
     },
     "execution_count": 14,
     "metadata": {},
     "output_type": "execute_result"
    }
   ],
   "source": [
    "articles[51].summary"
   ]
  },
  {
   "cell_type": "code",
   "execution_count": 7,
   "metadata": {},
   "outputs": [
    {
     "data": {
      "text/plain": [
       "['https://apnews.com/hub/ap-top-25-college-football-poll?utm_source=apnewsnav&utm_medium=featured',\n",
       " 'https://apnews.com/article/business-elections-germany-economy-national-elections-45048b76c22aee85ba7888ae03034283',\n",
       " 'https://apnews.com/article/united-nations-general-assembly-afghanistan-united-nations-taliban-90837664228c6cd964432655135e33ea',\n",
       " 'https://apnews.com/article/courts-ronald-reagan-jodie-foster-john-hinckley-c97c9e5f09d8f10e1b42290164965a0d',\n",
       " 'https://apnews.com/article/business-montana-amtrak-d33d78d5aa0da2abf8124162ed6b678f',\n",
       " 'https://apnews.com/article/anita-hill-waits-for-change-30-years-after-testimony-c60059b82560e0fdadaf0ef1d1510e91',\n",
       " 'https://apnews.com/article/beyond-impossible-join-crowded-plant-based-chicken-market-41d42018cc99efb6caeac4d151b02e34',\n",
       " 'https://apnews.com/article/climate-change-united-nations-general-assembly-lifestyle-business-environment-and-nature-b46559e9a86f2f6873a5c45f2a83b811',\n",
       " 'https://apnews.com/article/business-technology-aefc9f457480f47806d9aa17cba1b84e',\n",
       " 'https://apnews.com/article/joe-biden-plan-seeks-expand-education-pre-k-college-a66fb165e28630b0bd3965eae1f62e63',\n",
       " 'https://apnews.com/article/donald-trump-afghanistan-lloyd-austin-joint-chiefs-of-staff-b93c6da6e9fdf61b2a185df9baa4e2a7',\n",
       " 'https://apnews.com/article/why-coffee-could-cost-more-fe05cb4ce02fd31393042a5985eb696d',\n",
       " 'https://apnews.com/article/europe-greece-athens-earthquakes-crete-6627c212e4f69081ce67969574b24f84',\n",
       " 'https://apnews.com/article/nfl-sports-san-francisco-49ers-green-bay-packers-mason-crosby-cf8e65de234afd610f6f4f324f3c2803',\n",
       " 'https://apnews.com/article/college-football-sports-alabama-clemson-tigers-football-football-9069ab9d84dbe1df1d9bf6cd63ad058f',\n",
       " 'https://apnews.com/article/europe-africa-canary-islands-spain-atlantic-ocean-a1a4ba8906dea1f42d4cf327441533c1',\n",
       " 'https://apnews.com/article/coronavirus-pandemic-joe-biden-health-jill-biden-f8fb7ffbe139df8d4b94f1a46cc3cea0',\n",
       " 'https://apnews.com/article/united-nations-general-assembly-joe-biden-iran-nuclear-jamal-khashoggi-saudi-arabia-c14452b0796a13b27065517973e1beee',\n",
       " 'https://apnews.com/article/joe-biden-congress-government-funding-e7bfe8a6ffdb40a8d33e17ef11ded7a7',\n",
       " 'https://apnews.com/article/donald-trump-elections-texas-voting-rights-5fc5c1b2bba3626cf1c4095f41518277',\n",
       " 'https://apnews.com/article/united-nations-general-assembly-europe-middle-east-afghanistan-united-nations-cf0f0df6563f0b2641cdee6393dc2fe0',\n",
       " 'https://apnews.com/article/immigration-united-nations-general-assembly-mexico-india-pakistan-654835f76ee7681e822b5099ef20525f',\n",
       " 'https://apnews.com/article/immigration-united-nations-general-assembly-poverty-united-nations-haiti-67d1408dd473832a474652197ba180bd',\n",
       " 'https://apnews.com/article/united-nations-general-assembly-arts-and-entertainment-new-york-meghan-markle-united-nations-8ca4f3bdb79aa47c001479cf048a960f',\n",
       " 'https://apnews.com/article/united-nations-general-assembly-climate-change-bangladesh-europe-sheikh-hasina-b1d9ef2335e0776e2703805a570e2e8f',\n",
       " 'https://apnews.com/article/business-europe-elections-germany-angela-merkel-19b55047a9ec72452788a5fffa6e0e5d',\n",
       " 'https://apnews.com/article/business-middle-east-elections-iraq-baghdad-177d3284c87d892ac4f9f56140f13331',\n",
       " 'https://apnews.com/article/united-nations-general-assembly-iran-israel-united-nations-benjamin-netanyahu-28ba37fb3c05f3c976862c1d1f79fc2c',\n",
       " 'https://apnews.com/article/coronavirus-pandemic-business-europe-health-04214a004285246cd6226ab96dace94a',\n",
       " 'https://apnews.com/article/coronavirus-pandemic-vaccine-boosters-children-demand-us-ca6d151522986900211f467740211994',\n",
       " 'https://apnews.com/article/coronavirus-pandemic-business-health-europe-norway-4d3b34ca4362afa87772df309881216d',\n",
       " 'https://apnews.com/article/coronavirus-pandemic-business-europe-london-boris-johnson-a0a1d7d5563404e2ab993aa9d39f2040',\n",
       " 'https://apnews.com/article/coronavirus-pandemic-health-new-york-courts-education-c5dd62f249ff600cf034924be734d8f8',\n",
       " 'https://apnews.com/article/coronavirus-pandemic-science-health-9d5b5e9774f7dc6016e84696cf13cf34',\n",
       " 'https://apnews.com/article/china-oceans-overfishing-squid-294ff1e489589b2510cc806ec898c78f',\n",
       " 'https://apnews.com/article/business-health-pandemics-infectious-diseases-arkansas-d79d2550671cedc5d532fa04d1747248',\n",
       " 'https://apnews.com/article/immigration-race-and-ethnicity-mexico-haiti-asylum-seekers-a81ac1148118db38824d2d8f62139b87',\n",
       " 'https://apnews.com/article/louisiana-race-and-ethnicity-civil-rights-violations-death-of-ronald-greene-a2f88ffbeea43c6acfc4e9f490ced8f8',\n",
       " 'https://apnews.com/article/health-education-coronavirus-pandemic-only-on-ap-ca10e95511b4940375c037e871f939cd',\n",
       " 'https://apnews.com/article/r-kelly-entertainment-arts-and-entertainment-trials-new-york-6fede99231f4d28257725391dae28ebd',\n",
       " 'https://apnews.com/article/coronavirus-pandemic-entertainment-tv-arts-and-entertainment-new-york-f5cfeec6c14c29e24f542f208bda15d2',\n",
       " 'https://apnews.com/article/nhl-sports-entertainment-business-music-85829bcfa2e45101125b7105569f70ab',\n",
       " 'https://apnews.com/article/entertainment-arts-and-entertainment-fiction-book-reviews-anthony-doerr-6e57ef7a600fb0f13e60c2a6c56bd095',\n",
       " 'https://apnews.com/article/coronavirus-pandemic-entertainment-health-arts-and-entertainment-eli-saslow-2ac47f44223ca0a2aa7954bb8764a5a9',\n",
       " 'https://apnews.com/article/lifestyle-europe-france-emmanuel-macron-lyon-68d6d5af6817080f02bc55b9e170a1b1',\n",
       " 'https://apnews.com/article/oddities-elections-environment-and-nature-local-elections-rome-dfd52b91e75a6a7863cae244ee3c4bda',\n",
       " 'https://apnews.com/article/education-florida-florida-department-of-education-53217e5fe2478120de3f6d647e7348c7',\n",
       " 'https://apnews.com/article/lifestyle-oddities-environment-and-nature-california-san-francisco-b510ab05fcaceaf2434f04fbe0a7e886',\n",
       " 'https://apnews.com/article/haiti-port-au-prince-texas-border-immigration-5cc131fe86e3b5953df0ae70d1f9913d',\n",
       " 'https://apnews.com/article/entertainment-music-arts-and-entertainment-theater-academy-awards-819d2922f1a4833284b3e02e0f37342d',\n",
       " 'https://apnews.com/article/business-india-laws-new-delhi-traffic-f4d6a6a3c9f6e53f106a4053183fe5a0',\n",
       " 'https://apnews.com/article/coronavirus-pandemic-health-religion-middle-east-pandemics-1276892c8e67bbd4c4f0bca32c7e8052',\n",
       " 'https://apnews.com/article/middle-east-jerusalem-israel-west-bank-militant-groups-d56ee2f2465e503f38d9ecaab6b071f1',\n",
       " 'https://apnews.com/article/germany-election-angela-merkel-14ddbbb09c8c9ea194155a73de0970e2',\n",
       " 'https://apnews.com/article/coronavirus-pandemic-entertainment-health-concerts-arts-and-entertainment-da4529bdc6301c0548cbd91329791c8c',\n",
       " 'https://apnews.com/article/entertainment-arts-and-entertainment-theater-plays-tony-awards-02b62b39cf943278057d1f8b4c3b3dfb',\n",
       " 'https://apnews.com/article/germany-election-live-updates-8dee19485e83b9c7aa8859d81c2fbb29',\n",
       " 'https://apnews.com/article/amtrak-crash-montana-c8c3730849f568ca68b455eb23b49cef',\n",
       " 'https://apnews.com/article/new-york-florida-new-york-city-d7d605baeeb5423afe08eb1b2140beeb',\n",
       " 'https://apnews.com/article/sports-collin-morikawa-patrick-cantlay-ryder-cup-jon-rahm-5a5d6461070b9c50b11b6f37ad461639',\n",
       " 'https://apnews.com/article/united-nations-general-assembly-asia-afghanistan-voting-myanmar-33b3c02fe1d72b30a6890e73bab42fbd',\n",
       " 'https://apnews.com/article/politics-congress-budget-c6b234ff39f9a68afdd61fb3b402d848',\n",
       " 'https://apnews.com/article/joe-biden-donald-trump-business-liz-cheney-election-2020-161c59806f06eb4e0e6af8b104e4a055',\n",
       " 'https://apnews.com/article/college-football-sports-football-shootings-utah-7f771fec8e769aa9926938992873b128',\n",
       " 'https://apnews.com/article/abortion-europe-health-religion-italy-f9a1c1c0e4f69156fb551f677f56bcfe',\n",
       " 'https://apnews.com/article/college-football-sports-miami-alabama-alabama-crimson-tide-football-b8b9d6cde271fd151f23a9dc29cc5ef6',\n",
       " 'https://apnews.com/article/business-europe-elections-environment-and-nature-iceland-f9e66907b6e25560a508de0f4b118ddd',\n",
       " 'https://apnews.com/article/africa-education-kidnapping-nigeria-forestry-2eb7700b471ec0923fd167669fcf03fd',\n",
       " 'https://apnews.com/article/lifestyle-geneva-europe-couples-marriage-71b197795444309f4158dda5925b7138',\n",
       " 'https://apnews.com/article/uk-gas-stations-run-dry-trucker-shortage-3f078d7eb6bbf2b5d130abfa44007278',\n",
       " 'https://apnews.com/article/immigration-mexico-texas-africa-haiti-649990eb3016537e024e5ea3dec43acc',\n",
       " 'https://apnews.com/article/health-georgia-race-and-ethnicity-athens-dd3882ead7df56541d845dd9867bc3de',\n",
       " 'https://apnews.com/article/new-york-chicago-united-states-illinois-redistricting-32afdbf3746bd875f200b13bc3da41ff',\n",
       " 'https://apnews.com/article/joe-biden-congress-budget-08d7ca3ffc7f438148570b04bc61ded0',\n",
       " 'https://apnews.com/article/seoul-south-korea-north-korea-kim-yo-jong-ef0b8abcfbe164b9d16cb281aefd26f6',\n",
       " 'https://apnews.com/article/europe-denmark-copenhagen-5dfe5825078672dec8ea627fac195f65',\n",
       " 'https://apnews.com/article/mlb-sports-entertainment-lifestyle-atlanta-braves-49548ce0820e2cd75a0e1b3e375cf579',\n",
       " 'https://apnews.com/article/donald-trump-georgia-atlanta-election-2020-general-elections-16ae7dc0448e7e03a5a735513e3a47b0',\n",
       " 'https://apnews.com/article/united-nations-general-assembly-business-africa-russia-middle-east-3a0b6569a8478246b0eef5f03f997af8']"
      ]
     },
     "execution_count": 7,
     "metadata": {},
     "output_type": "execute_result"
    }
   ],
   "source": [
    "site.article_urls()"
   ]
  },
  {
   "cell_type": "code",
   "execution_count": 11,
   "metadata": {},
   "outputs": [
    {
     "name": "stderr",
     "output_type": "stream",
     "text": [
      "100%|████████████████████████████████████████████████████████████████████████████████████████████████████████████████████████████████████████████████████████████████████| 2/2 [00:01<00:00,  1.59it/s]\n"
     ]
    }
   ],
   "source": [
    "articles = get_site_articles(websites[\"ap_main\"][\"url\"])"
   ]
  },
  {
   "cell_type": "code",
   "execution_count": null,
   "metadata": {},
   "outputs": [],
   "source": [
    "def get_site_feed(feed_id):\n",
    "    site_info = websites[escape(feed_id)]\n",
    "\n",
    "    feed_items = get_site_articles(site_info[\"url\"])\n",
    "\n",
    "    feed = rfeed.Feed(\n",
    "        title=site_info[\"shortname\"],\n",
    "        link=site_info[\"url\"],\n",
    "        description=site_info[\"fullname\"],\n",
    "        items=feed_items,\n",
    "    )\n",
    "\n",
    "    return feed.rss()"
   ]
  },
  {
   "cell_type": "code",
   "execution_count": 21,
   "metadata": {},
   "outputs": [],
   "source": [
    "site_info = websites[\"ap_main\"]"
   ]
  },
  {
   "cell_type": "code",
   "execution_count": 22,
   "metadata": {},
   "outputs": [],
   "source": [
    "feed = rfeed.Feed(\n",
    "        title=site_info[\"shortname\"],\n",
    "        link=site_info[\"url\"],\n",
    "        description=site_info[\"fullname\"],\n",
    "        items=articles,\n",
    "    )"
   ]
  },
  {
   "cell_type": "code",
   "execution_count": 23,
   "metadata": {},
   "outputs": [
    {
     "data": {
      "text/plain": [
       "'<?xml version=\"1.0\" encoding=\"UTF-8\"?>\\n<rss version=\"2.0\" xmlns:dc=\"http://purl.org/dc/elements/1.1/\"><channel><title>AP News Main Page</title><link>https://apnews.com/</link><description>Associated Press News - Main Page</description><generator>rfeed v1.1.1</generator><docs>https://github.com/svpino/rfeed/blob/master/README.md</docs><item><title>AP Top 25 Poll</title><link>https://apnews.com/hub/ap-top-25-college-football-poll?utm_source=apnewsnav&amp;utm_medium=featured</link><description>AP Top 25 PollThe Associated Press began its college football poll on Oct. 19, 1936, and it is now the longest-running poll of those that award national titles at the end of the season.\\nThe preseason poll was started in 1950.\\nA panel of 62 sports writers and broadcasters from around the country votes on the poll weekly.</description><dc:creator></dc:creator></item><item><title>Uncertain start to post-Merkel era after close German vote</title><link>https://apnews.com/article/business-elections-germany-economy-national-elections-45048b76c22aee85ba7888ae03034283</link><description>Both Social Democrat Olaf Scholz and Armin Laschet, the candidate of Merkel\\'s party, laid a claim to leading the next government.\\nBoth Social Democrat Olaf Scholz and Armin Laschet, the candidate of Merkel\\'s party, laid a claim to leading the next government.\\nThe Greens traditionally lean toward the Social Democrats and the Free Democrats toward the Union, but neither ruled out going the other way.\\nThe only other option that would have a parliamentary majority is a repeat of the outgoing “grand coalition” of the Union and Social Democrats.\\n“The trans-Atlantic partnership is of (the) essence for us in Germany ... and so you can rely on continuity in this question.”Scholz was clear that the rival Union bloc should bow out of government.</description><dc:creator>Geir Moulson</dc:creator><pubDate>Mon, 27 Sep 2021 06:51:57 GMT</pubDate></item></channel></rss>'"
      ]
     },
     "execution_count": 23,
     "metadata": {},
     "output_type": "execute_result"
    }
   ],
   "source": [
    "feed.rss()"
   ]
  },
  {
   "cell_type": "code",
   "execution_count": null,
   "metadata": {},
   "outputs": [],
   "source": [
    "feed = get_site_feed(\"ap_main\")"
   ]
  },
  {
   "cell_type": "code",
   "execution_count": null,
   "metadata": {},
   "outputs": [],
   "source": []
  }
 ],
 "metadata": {
  "kernelspec": {
   "display_name": "Python [conda env:python-email]",
   "language": "python",
   "name": "python-email"
  },
  "language_info": {
   "codemirror_mode": {
    "name": "ipython",
    "version": 3
   },
   "file_extension": ".py",
   "mimetype": "text/x-python",
   "name": "python",
   "nbconvert_exporter": "python",
   "pygments_lexer": "ipython3",
   "version": "3.9.7"
  }
 },
 "nbformat": 4,
 "nbformat_minor": 4
}
