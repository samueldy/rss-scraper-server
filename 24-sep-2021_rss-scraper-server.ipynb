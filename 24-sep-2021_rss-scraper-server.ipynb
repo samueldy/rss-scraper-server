{
 "cells": [
  {
   "cell_type": "markdown",
   "metadata": {},
   "source": [
    "# RSS feed server for websites that don't publish it anymore"
   ]
  },
  {
   "cell_type": "markdown",
   "metadata": {},
   "source": [
    "- This is a prototyping notebook to test the `newspaper` and `rfeed` libraries.\n",
    "- Tried to get RSS feeds from Associated Press.\n",
    "- RSS.app worked...while their free trial lasted. Then they wanted me to pay.\n",
    "- And I was like, \"I *know* I can build something like this in Python.\""
   ]
  },
  {
   "cell_type": "code",
   "execution_count": null,
   "metadata": {},
   "outputs": [],
   "source": [
    "import os\n",
    "import newspaper\n",
    "import rfeed\n",
    "import tqdm\n",
    "from markupsafe import escape\n",
    "import pandas as pd"
   ]
  },
  {
   "cell_type": "code",
   "execution_count": null,
   "metadata": {},
   "outputs": [],
   "source": [
    "# Utility function to easily pretty-print entire dataframe in Jupyter\n",
    "from IPython.display import display\n",
    "\n",
    "\n",
    "# Show entire dataframe\n",
    "def show_entire_df(df):\n",
    "    with pd.option_context(\"display.max_rows\", None, \"display.max_columns\", None):\n",
    "        display(df)"
   ]
  },
  {
   "cell_type": "code",
   "execution_count": null,
   "metadata": {},
   "outputs": [],
   "source": [
    "# Need to specify the websites we'd like to scrape\n",
    "websites = {\n",
    "    \"ap_main\": {\n",
    "        \"shortname\": \"AP News Main Page\",\n",
    "        \"fullname\": \"Associated Press News - Main Page\",\n",
    "        \"url\": \"https://apnews.com/\",\n",
    "    },\n",
    "    #     \"ap_politics\": {\n",
    "    #         \"shortname\": \"AP News - Politics\",\n",
    "    #         \"fullname\": \"Associated Press News - Politics\",\n",
    "    #         \"url\": \"https://apnews.com/hub/politics\",\n",
    "    #     },\n",
    "    #     \"ap_coronavirus\": {\n",
    "    #         \"shortname\": \"AP News - Coronavirus\",\n",
    "    #         \"fullname\": \"Associated Press News - Coronavirus\",\n",
    "    #         \"url\": \"https://apnews.com/hub/coronavirus-pandemic\",\n",
    "    #     },\n",
    "}"
   ]
  },
  {
   "cell_type": "code",
   "execution_count": null,
   "metadata": {},
   "outputs": [],
   "source": [
    "def get_site_articles(url):\n",
    "    \"\"\"\n",
    "    Reach out and download article objects from a news site.\n",
    "    \"\"\"\n",
    "\n",
    "    feed_items = []\n",
    "\n",
    "    site = newspaper.build(url, memoize_articles=False)\n",
    "\n",
    "    articles = [newspaper.Article(art_url) for art_url in site.article_urls()]\n",
    "\n",
    "    data = []\n",
    "    for article in tqdm.tqdm(articles):\n",
    "        article.download()\n",
    "        article.parse()\n",
    "        article.nlp()\n",
    "        feed_item = rfeed.Item(\n",
    "            title=article.title,\n",
    "            link=article.url,\n",
    "            description=article.summary,\n",
    "            creator=\", \".join(article.authors),\n",
    "            guid=rfeed.Guid(guid=article.url),\n",
    "            pubDate=article.publish_date,\n",
    "        )\n",
    "\n",
    "        feed_items.append(feed_item)\n",
    "\n",
    "    return feed_items"
   ]
  },
  {
   "cell_type": "code",
   "execution_count": null,
   "metadata": {},
   "outputs": [],
   "source": [
    "articles = get_site_articles(url=\"https://apnews.com\")"
   ]
  },
  {
   "cell_type": "code",
   "execution_count": null,
   "metadata": {},
   "outputs": [],
   "source": [
    "# Visualize feed items\n",
    "article_data = {label: article.__dict__ for label, article in enumerate(articles)}\n",
    "for label, article in article_data.items():\n",
    "    article[\"guid\"] = article[\"guid\"].guid\n",
    "\n",
    "df = pd.DataFrame.from_dict(\n",
    "    data=article_data,\n",
    "    orient=\"index\",\n",
    ")\n",
    "\n",
    "show_entire_df(\n",
    "    df.drop(\n",
    "        columns=[\n",
    "            \"handler\",\n",
    "            \"extensions\",\n",
    "            \"author\",\n",
    "            \"comments\",\n",
    "            \"enclosure\",\n",
    "            \"source\",\n",
    "            \"categories\",\n",
    "        ]\n",
    "    )\n",
    ")"
   ]
  },
  {
   "cell_type": "code",
   "execution_count": null,
   "metadata": {},
   "outputs": [],
   "source": [
    "def get_site_feed(feed_id):\n",
    "    site_info = websites[escape(feed_id)]\n",
    "\n",
    "    feed_items = get_site_articles(site_info[\"url\"])\n",
    "\n",
    "    feed = rfeed.Feed(\n",
    "        title=site_info[\"shortname\"],\n",
    "        link=site_info[\"url\"],\n",
    "        description=site_info[\"fullname\"],\n",
    "        items=feed_items,\n",
    "    )\n",
    "\n",
    "    return feed.rss()"
   ]
  },
  {
   "cell_type": "code",
   "execution_count": null,
   "metadata": {},
   "outputs": [],
   "source": []
  }
 ],
 "metadata": {
  "kernelspec": {
   "display_name": "Python [conda env:python-email]",
   "language": "python",
   "name": "python-email"
  },
  "language_info": {
   "codemirror_mode": {
    "name": "ipython",
    "version": 3
   },
   "file_extension": ".py",
   "mimetype": "text/x-python",
   "name": "python",
   "nbconvert_exporter": "python",
   "pygments_lexer": "ipython3",
   "version": "3.7.3"
  }
 },
 "nbformat": 4,
 "nbformat_minor": 4
}
